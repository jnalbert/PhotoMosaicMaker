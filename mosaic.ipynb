{
 "cells": [
  {
   "cell_type": "code",
   "execution_count": 1,
   "metadata": {},
   "outputs": [],
   "source": [
    "from IPython.display import Image, display\n",
    "import glob\n",
    "from PIL import Image\n",
    "from scipy import spatial\n",
    "import numpy as np"
   ]
  },
  {
   "cell_type": "code",
   "execution_count": 2,
   "metadata": {},
   "outputs": [],
   "source": [
    "main_photo_path = \"./images/source/IMB_cbcfcb.jpeg\"\n",
    "tile_photos_path = \"./images/tiles/*\"\n",
    "tile_size = (50, 50)"
   ]
  },
  {
   "cell_type": "code",
   "execution_count": null,
   "metadata": {},
   "outputs": [],
   "source": [
    "tile_paths = []\n",
    "for file in glob.glob(tile_photos_path):\n",
    "    tile_paths.append(file)"
   ]
  },
  {
   "cell_type": "code",
   "execution_count": null,
   "metadata": {},
   "outputs": [],
   "source": [
    "tiles = []\n",
    "for path in tile_paths:\n",
    "\ttile = Image.open(path)\n",
    "\ttile = tile.resize(tile_size)\n",
    "\ttiles.append(tile)"
   ]
  },
  {
   "cell_type": "code",
   "execution_count": null,
   "metadata": {},
   "outputs": [],
   "source": [
    "colors = []\n",
    "for tile in tiles:\n",
    "\tmean_color = np.array(tile).mean(axis=0).mean(axis=0)\n",
    "\tcolors.append(mean_color)"
   ]
  }
 ],
 "metadata": {
  "kernelspec": {
   "display_name": "Python 3.10.6 ('photoMosaic')",
   "language": "python",
   "name": "python3"
  },
  "language_info": {
   "codemirror_mode": {
    "name": "ipython",
    "version": 3
   },
   "file_extension": ".py",
   "mimetype": "text/x-python",
   "name": "python",
   "nbconvert_exporter": "python",
   "pygments_lexer": "ipython3",
   "version": "3.10.6"
  },
  "orig_nbformat": 4,
  "vscode": {
   "interpreter": {
    "hash": "223c5f8e0b8e84cb0e06a9617194d97c555510326af6b1bcb152ec225e60b6f5"
   }
  }
 },
 "nbformat": 4,
 "nbformat_minor": 2
}
